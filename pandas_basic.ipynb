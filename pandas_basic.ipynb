{
 "cells": [
  {
   "cell_type": "code",
   "execution_count": 19,
   "id": "f81bd5b1",
   "metadata": {},
   "outputs": [
    {
     "data": {
      "text/plain": [
       "0     4\n",
       "1     8\n",
       "2    15\n",
       "3    16\n",
       "4    23\n",
       "5    42\n",
       "dtype: int64"
      ]
     },
     "execution_count": 19,
     "metadata": {},
     "output_type": "execute_result"
    }
   ],
   "source": [
    "# 1-Create a Pandas Series that contains the following data: 4, 8, 15, 16, 23, and 42. Then, print the series.\n",
    "# Ans:\n",
    "import pandas as pd\n",
    "data=[4, 8, 15, 16, 23,42]\n",
    "pd.Series(data)"
   ]
  },
  {
   "cell_type": "code",
   "execution_count": 26,
   "id": "92b8c97d",
   "metadata": {},
   "outputs": [
    {
     "data": {
      "text/plain": [
       "0     2\n",
       "1     3\n",
       "2     4\n",
       "3     5\n",
       "4     6\n",
       "5     7\n",
       "6     8\n",
       "7     9\n",
       "8    10\n",
       "9    11\n",
       "dtype: int64"
      ]
     },
     "execution_count": 26,
     "metadata": {},
     "output_type": "execute_result"
    }
   ],
   "source": [
    "# Q2. Create a variable of list type containing 10 elements in it, and apply pandas.Series function on the\n",
    "# variable print it.\n",
    "#Ans:\n",
    "import pandas as pd\n",
    "data=[i for i in range(2,12)]\n",
    "pd.Series(data)"
   ]
  },
  {
   "cell_type": "code",
   "execution_count": 37,
   "id": "65d46b37",
   "metadata": {},
   "outputs": [
    {
     "data": {
      "text/html": [
       "<div>\n",
       "<style scoped>\n",
       "    .dataframe tbody tr th:only-of-type {\n",
       "        vertical-align: middle;\n",
       "    }\n",
       "\n",
       "    .dataframe tbody tr th {\n",
       "        vertical-align: top;\n",
       "    }\n",
       "\n",
       "    .dataframe thead th {\n",
       "        text-align: right;\n",
       "    }\n",
       "</style>\n",
       "<table border=\"1\" class=\"dataframe\">\n",
       "  <thead>\n",
       "    <tr style=\"text-align: right;\">\n",
       "      <th></th>\n",
       "      <th>Name</th>\n",
       "      <th>Age</th>\n",
       "      <th>Gender</th>\n",
       "    </tr>\n",
       "  </thead>\n",
       "  <tbody>\n",
       "    <tr>\n",
       "      <th>0</th>\n",
       "      <td>Alice</td>\n",
       "      <td>25</td>\n",
       "      <td>Female</td>\n",
       "    </tr>\n",
       "    <tr>\n",
       "      <th>1</th>\n",
       "      <td>Bob</td>\n",
       "      <td>30</td>\n",
       "      <td>Male</td>\n",
       "    </tr>\n",
       "    <tr>\n",
       "      <th>2</th>\n",
       "      <td>Claire</td>\n",
       "      <td>27</td>\n",
       "      <td>Female</td>\n",
       "    </tr>\n",
       "  </tbody>\n",
       "</table>\n",
       "</div>"
      ],
      "text/plain": [
       "     Name  Age  Gender\n",
       "0   Alice   25  Female\n",
       "1     Bob   30    Male\n",
       "2  Claire   27  Female"
      ]
     },
     "execution_count": 37,
     "metadata": {},
     "output_type": "execute_result"
    }
   ],
   "source": [
    "# Q3. Create a Pandas DataFrame that contains the following data:Then, print the DataFrame.\n",
    "# Ans:\n",
    "data={\"Name\":[\"Alice\",\"Bob\",\"Claire\"],\"Age\":[25,30,27],\"Gender\":[\"Female\",\"Male\",\"Female\"]}\n",
    "pd.DataFrame(data,index=None)"
   ]
  },
  {
   "cell_type": "markdown",
   "id": "a9a25538",
   "metadata": {},
   "source": [
    "Q4. What is ‘DataFrame’ in pandas and how is it different from pandas.series? Explain with an example.\n",
    "Ans: A Pandas DataFrame is a 2 dimensional data structure, like a 2 dimensional array, or a table with rows and columns.Series can only contain single list with index, whereas dataframe can be made of more than one series or we can say that a dataframe is a collection of series that can be used to analyse the data."
   ]
  },
  {
   "cell_type": "markdown",
   "id": "3df07f17",
   "metadata": {},
   "source": [
    "Q5. What are some common functions you can use to manipulate data in a Pandas DataFrame? Can\n",
    "you give an example of when you might use one of these functions?\n",
    "\n",
    "Ans:Pandas is a popular library for data manipulation and analysis. It provides numerous functions for manipulating data in a DataFrame. Here are some common functions that can be used to manipulate data in a Pandas DataFrame:\n",
    "\n",
    "head(): This function returns the first n rows of a DataFrame. This function is useful when you want to quickly inspect the first few rows of a large dataset.Example: Suppose you have a DataFrame named \"df\" and you want to see the first five rows. You can use the head() function as follows:df.head(5)\n",
    "tail(): This function returns the last n rows of a DataFrame. This function is useful when you want to quickly inspect the last few rows of a large dataset.\n",
    "Example: Suppose you have a DataFrame named \"df\" and you want to see the last five rows. You can use the tail() function as follows:df.tail(5)\n",
    "describe(): This function generates descriptive statistics of a DataFrame, such as count, mean, standard deviation, minimum, and maximum values. This function is useful when you want to get an overview of the distribution of values in a dataset.\n",
    "Example: Suppose you have a DataFrame named \"df\" and you want to generate descriptive statistics for all the columns. You can use the describe() function as follows:df.describe()\n",
    "sort_values(): This function sorts the rows of a DataFrame based on one or more columns. This function is useful when you want to sort the data based on a particular column.\n",
    "Example: Suppose you have a DataFrame named \"df\" with columns \"name\" and \"age\", and you want to sort the data based on the \"age\" column. You can use the sort_values() function as follows:df.sort_values('age')\n"
   ]
  },
  {
   "cell_type": "markdown",
   "id": "d1b0a622",
   "metadata": {},
   "source": [
    "Q6-Which of the following is mutable in nature Series, DataFrame, Panel?\n",
    "Ans:Both the Series and the Dataframe are the mutable in the nature."
   ]
  },
  {
   "cell_type": "code",
   "execution_count": 1,
   "id": "12243a36",
   "metadata": {},
   "outputs": [
    {
     "name": "stdout",
     "output_type": "stream",
     "text": [
      "      Name  Age  Gender\n",
      "0    Alice   25  Female\n",
      "1      Bob   30    Male\n",
      "2  Charlie   35    Male\n"
     ]
    }
   ],
   "source": [
    "# Q7-Create a DataFrame using multiple Series. Explain with an example.\n",
    "# Ans:\n",
    "import pandas as pd\n",
    "\n",
    "# Create three Series\n",
    "name = pd.Series(['Alice', 'Bob', 'Charlie'])\n",
    "age = pd.Series([25, 30, 35])\n",
    "gender = pd.Series(['Female', 'Male', 'Male'])\n",
    "\n",
    "# Combine the Series into a DataFrame\n",
    "df = pd.DataFrame({'Name': name, 'Age': age, 'Gender': gender})\n",
    "\n",
    "# Display the DataFrame\n",
    "print(df)\n"
   ]
  }
 ],
 "metadata": {
  "kernelspec": {
   "display_name": "Python 3 (ipykernel)",
   "language": "python",
   "name": "python3"
  },
  "language_info": {
   "codemirror_mode": {
    "name": "ipython",
    "version": 3
   },
   "file_extension": ".py",
   "mimetype": "text/x-python",
   "name": "python",
   "nbconvert_exporter": "python",
   "pygments_lexer": "ipython3",
   "version": "3.10.5"
  }
 },
 "nbformat": 4,
 "nbformat_minor": 5
}
